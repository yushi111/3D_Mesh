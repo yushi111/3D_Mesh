{
 "cells": [
  {
   "cell_type": "code",
   "execution_count": 1,
   "metadata": {},
   "outputs": [
    {
     "name": "stderr",
     "output_type": "stream",
     "text": [
      "/tmp/ipykernel_3331082/2853137656.py:8: DeprecationWarning: Importing display from IPython.core.display is deprecated since IPython 7.14, please import from IPython display\n",
      "  from IPython.core.display import display, HTML\n"
     ]
    }
   ],
   "source": [
    "import igl\n",
    "import meshplot as mp\n",
    "import numpy as np\n",
    "import matplotlib\n",
    "import scipy.io\n",
    "import h5py\n",
    "import time\n",
    "from IPython.core.display import display, HTML\n",
    "import argparse\n",
    "import os\n",
    "import mat73"
   ]
  },
  {
   "cell_type": "code",
   "execution_count": 2,
   "metadata": {},
   "outputs": [
    {
     "ename": "AssertionError",
     "evalue": "/project/GIMRI_model/results/figures/for_YS/fig1_sub1.mat does not exist",
     "output_type": "error",
     "traceback": [
      "\u001b[0;31m---------------------------------------------------------------------------\u001b[0m",
      "\u001b[0;31mAssertionError\u001b[0m                            Traceback (most recent call last)",
      "\u001b[1;32m/home/yushi/Desktop/Research/visulizzation/fig.ipynb Cell 2\u001b[0m in \u001b[0;36m<cell line: 1>\u001b[0;34m()\u001b[0m\n\u001b[0;32m----> <a href='vscode-notebook-cell:/home/yushi/Desktop/Research/visulizzation/fig.ipynb#W1sZmlsZQ%3D%3D?line=0'>1</a>\u001b[0m mat\u001b[39m=\u001b[39mmat73\u001b[39m.\u001b[39;49mloadmat(\u001b[39m'\u001b[39;49m\u001b[39m/project/GIMRI_model/results/figures/for_YS/fig1_sub1.mat\u001b[39;49m\u001b[39m'\u001b[39;49m)\n\u001b[1;32m      <a href='vscode-notebook-cell:/home/yushi/Desktop/Research/visulizzation/fig.ipynb#W1sZmlsZQ%3D%3D?line=1'>2</a>\u001b[0m \u001b[39mprint\u001b[39m(mat)\n\u001b[1;32m      <a href='vscode-notebook-cell:/home/yushi/Desktop/Research/visulizzation/fig.ipynb#W1sZmlsZQ%3D%3D?line=2'>3</a>\u001b[0m \u001b[39mif\u001b[39;00m mat[\u001b[39m'\u001b[39m\u001b[39mvertices\u001b[39m\u001b[39m'\u001b[39m]\u001b[39m.\u001b[39mshape:\n",
      "File \u001b[0;32m~/.conda/envs/ysvenv/lib/python3.9/site-packages/mat73/__init__.py:307\u001b[0m, in \u001b[0;36mloadmat\u001b[0;34m(filename, use_attrdict, only_include, verbose)\u001b[0m\n\u001b[1;32m    288\u001b[0m \u001b[39mdef\u001b[39;00m \u001b[39mloadmat\u001b[39m(filename, use_attrdict\u001b[39m=\u001b[39m\u001b[39mFalse\u001b[39;00m, only_include\u001b[39m=\u001b[39m\u001b[39mNone\u001b[39;00m, verbose\u001b[39m=\u001b[39m\u001b[39mTrue\u001b[39;00m):\n\u001b[1;32m    289\u001b[0m     \u001b[39m\"\"\"\u001b[39;00m\n\u001b[1;32m    290\u001b[0m \u001b[39m    Loads a MATLAB 7.3 .mat file, which is actually a\u001b[39;00m\n\u001b[1;32m    291\u001b[0m \u001b[39m    HDF5 file with some custom matlab annotations inside\u001b[39;00m\n\u001b[0;32m   (...)\u001b[0m\n\u001b[1;32m    305\u001b[0m \u001b[39m    :returns: A dictionary with the matlab variables loaded\u001b[39;00m\n\u001b[1;32m    306\u001b[0m \u001b[39m    \"\"\"\u001b[39;00m\n\u001b[0;32m--> 307\u001b[0m     \u001b[39massert\u001b[39;00m os\u001b[39m.\u001b[39mpath\u001b[39m.\u001b[39misfile(filename), \u001b[39m'\u001b[39m\u001b[39m{}\u001b[39;00m\u001b[39m does not exist\u001b[39m\u001b[39m'\u001b[39m\u001b[39m.\u001b[39mformat(filename)\n\u001b[1;32m    308\u001b[0m     decoder \u001b[39m=\u001b[39m HDF5Decoder(verbose\u001b[39m=\u001b[39mverbose, use_attrdict\u001b[39m=\u001b[39muse_attrdict,\n\u001b[1;32m    309\u001b[0m                           only_include\u001b[39m=\u001b[39monly_include)\n\u001b[1;32m    311\u001b[0m     ext \u001b[39m=\u001b[39m os\u001b[39m.\u001b[39mpath\u001b[39m.\u001b[39msplitext(filename)[\u001b[39m1\u001b[39m]\u001b[39m.\u001b[39mlower()\n",
      "\u001b[0;31mAssertionError\u001b[0m: /project/GIMRI_model/results/figures/for_YS/fig1_sub1.mat does not exist"
     ]
    }
   ],
   "source": [
    "mat=mat73.loadmat('/project/GIMRI_model/results/figures/for_YS/fig1_sub1.mat')\n",
    "print(mat)\n",
    "if mat['vertices'].shape:\n",
    "    print('yes')\n",
    "v=mat['vertices']\n",
    "print(np.max(v[:,0]),np.max(v[:,1]),np.max(v[:,2]))\n",
    "print(np.min(v[:,0]),np.min(v[:,1]),np.min(v[:,2]))"
   ]
  },
  {
   "cell_type": "code",
   "execution_count": 8,
   "metadata": {},
   "outputs": [],
   "source": [
    "def Visual_3D(v,f,c=np.array([241, 153, 159])/255,n=\"figure0\",add_landmark=None,v_box_coods=None):\n",
    "    #255, 166, 203\n",
    "    p=mp.plot(v,f,c,plot=False)\n",
    "    if add_landmark is not None:\n",
    "        p.add_points(add_landmark,shading={\"point_size\": 5,\"point_color\": 'blue'})\n",
    "    if v_box_coods:\n",
    "        m=v_box_coods['m']\n",
    "        ma=v_box_coods['ma']\n",
    "        v_box = np.array([[m[0], m[1], m[2]], [ma[0], m[1], m[2]], [ma[0], ma[1], m[2]], [m[0], ma[1], m[2]],\n",
    "                        [m[0], m[1], ma[2]], [ma[0], m[1], ma[2]], [ma[0], ma[1], ma[2]], [m[0], ma[1], ma[2]]])\n",
    "\n",
    "        # Edges of the bounding box\n",
    "        f_box = np.array([[0, 1], [1, 2], [2, 3], [3, 0], [4, 5], [5, 6], [6, 7], \n",
    "                        [7, 4], [0, 4], [1, 5], [2, 6], [7, 3]], dtype=np.int)\n",
    "\n",
    "\n",
    "        #p.add_edges(v_box, f_box, shading={\"line_color\": \"#00ffffff\"})\n",
    "        p.add_points(v_box, shading={\"point_color\": \"#00ffffff\"})\n",
    "    \"\"\"\n",
    "    if add_landmark is not None:\n",
    "        #print(add_landmark.shape)\n",
    "        color=['#000000','#0072BD','#D95319','#EDB120','#7E2F8E','#77AC30','#4DBEEE','#A2142F']\n",
    "        for i,point in enumerate(add_landmark):\n",
    "            print(point)\n",
    "            point=point.reshape((1,3))\n",
    "            p.add_points(point,shading={\"point_size\": 5,\"point_color\": color[i]})\n",
    "    \"\"\"\n",
    "    #p.remove_object(0)\n",
    "    p.save(n)\n",
    "\n",
    "def load_vf(file_path):\n",
    "    mat=scipy.io.loadmat(file_path)\n",
    "    return np.array(mat['pred_nodes']), np.array(mat['conn'])\n",
    "\n",
    "def plot_contracting(v1,v2,cline,n=\"Time change\"):\n",
    "    p=mp.plot(v1,c=np.array([250, 77, 9])/255,shading={'point_size':0.2})\n",
    "    p.add_points(v2,shading={'point_size':0.2})\n",
    "    p.add_lines(v1,v2,shading={\"line_color\":cline})\n",
    "    #p.remove_object(0)\n",
    "    p.save(n)\n",
    "\n",
    "def linear_mapping(v,vi=None,va=None):\n",
    "    vmin=v.min()\n",
    "    vmax=v.max()\n",
    "    if vi is not None:\n",
    "        vmin=vi\n",
    "        vmax=va\n",
    "    slope=1./(vmax-vmin)\n",
    "    return (v-vmin)*slope"
   ]
  },
  {
   "cell_type": "code",
   "execution_count": null,
   "metadata": {},
   "outputs": [],
   "source": [
    "import matplotlib.pyplot as plt\n",
    "import matplotlib as mpl\n",
    "\n",
    "#p.add_points(v_box, shading={\"point_color\": \"green\"})\n",
    "\n",
    "\n",
    "for f in os.listdir('/project/GIMRI_model/results/figures/for_YS/'):\n",
    "    location='./jul26/'\n",
    "    name=os.path.join(location,f)\n",
    "    try:\n",
    "        mat=mat73.loadmat(os.path.join('/project/GIMRI_model/results/figures/for_YS/',f))\n",
    "    except:\n",
    "        print('f')\n",
    "        continue\n",
    "    #no values\n",
    "    if not mat['values'].shape:\n",
    "        Visual_3D(mat['vertices'],mat['faces'],n=name)\n",
    "    else:\n",
    "        minv=min(mat['values'])\n",
    "        maxv=max(mat['values'])\n",
    "        print(minv,maxv)\n",
    "        fig, ax = plt.subplots(figsize=(6, 1))\n",
    "        fig.subplots_adjust(bottom=0.5)\n",
    "\n",
    "        cmap = mpl.cm.jet\n",
    "        norm = mpl.colors.Normalize(vmin=minv, vmax=maxv)\n",
    "\n",
    "        cb1 = mpl.colorbar.ColorbarBase(ax, cmap=cmap,\n",
    "                                        norm=norm,\n",
    "                                        orientation='horizontal')\n",
    "        cb1.set_label(f)\n",
    "        fig.show()\n",
    "        name=os.path.splitext(f)[0]\n",
    "        fig.savefig(name)\n",
    "        cv=linear_mapping(mat['values'])\n",
    "        #print(cv)\n",
    "        #Visual_3D(mat['vertices'],mat['faces'],c=cv,n=name)\n",
    "    \n",
    "    \n",
    "    "
   ]
  },
  {
   "cell_type": "code",
   "execution_count": 20,
   "metadata": {},
   "outputs": [
    {
     "name": "stderr",
     "output_type": "stream",
     "text": [
      "/var/folders/_s/nv_19n4s5rs_f8_vl4m97kj80000gn/T/ipykernel_81721/313019328.py:14: UserWarning: Matplotlib is currently using module://matplotlib_inline.backend_inline, which is a non-GUI backend, so cannot show the figure.\n",
      "  fig.show()\n"
     ]
    },
    {
     "data": {
      "image/png": "[encoded data removed]",
      "text/plain": [
       "<Figure size 432x72 with 1 Axes>"
      ]
     },
     "metadata": {
      "needs_background": "light"
     },
     "output_type": "display_data"
    }
   ],
   "source": [
    "import matplotlib.pyplot as plt\n",
    "import matplotlib as mpl\n",
    "\n",
    "fig, ax = plt.subplots(figsize=(6, 1))\n",
    "fig.subplots_adjust(bottom=0.5)\n",
    "\n",
    "cmap = mpl.cm.jet\n",
    "norm = mpl.colors.Normalize(vmin=0, vmax=1)\n",
    "\n",
    "cb1 = mpl.colorbar.ColorbarBase(ax, cmap=cmap,\n",
    "                                norm=norm,\n",
    "                                orientation='horizontal')\n",
    "fig.savefig('colormap.png')\n",
    "fig.show()"
   ]
  },
  {
   "cell_type": "code",
   "execution_count": 4,
   "metadata": {},
   "outputs": [
    {
     "name": "stdout",
     "output_type": "stream",
     "text": [
      "fig4_sub2.mat dict_keys(['faces', 'landmarks', 'values', 'vertices'])\n"
     ]
    },
    {
     "name": "stderr",
     "output_type": "stream",
     "text": [
      "/Users/yushi/opt/anaconda3/envs/Motion/lib/python3.9/site-packages/jupyter_client/session.py:716: UserWarning: Message serialization failed with:\n",
      "Out of range float values are not JSON compliant\n",
      "Supporting this message is deprecated in jupyter-client 7, please make sure your message is JSON-compliant\n",
      "  content = self.pack(content)\n"
     ]
    },
    {
     "data": {
      "application/vnd.jupyter.widget-view+json": {
       "model_id": "878c48e4b0af49bab87a673c1ba1a6f7",
       "version_major": 2,
       "version_minor": 0
      },
      "text/plain": [
       "Renderer(camera=PerspectiveCamera(children=(HemisphereLight(intensity=0.8, position=(0.7656364440917969, 0.884…"
      ]
     },
     "metadata": {},
     "output_type": "display_data"
    },
    {
     "name": "stdout",
     "output_type": "stream",
     "text": [
      "Plot saved to file land_2.html.\n"
     ]
    }
   ],
   "source": [
    "for f in os.listdir('Aug6/for_YS/'):\n",
    "    try:\n",
    "        mat=mat73.loadmat(os.path.join('Aug6/for_YS/',f))\n",
    "    except:\n",
    "        pass\n",
    "    #print(f)\n",
    "    if f=='fig4_sub2.mat':\n",
    "        mat=mat73.loadmat(os.path.join('Aug6/for_YS/',f))\n",
    "        print(f,mat.keys())\n",
    "        Visual_3D(mat['vertices'],mat['faces'],np.array([250, 77, 9])/255,n='land_2',add_landmark=mat['landmarks'])\n"
   ]
  },
  {
   "cell_type": "code",
   "execution_count": 3,
   "metadata": {},
   "outputs": [
    {
     "ename": "AssertionError",
     "evalue": "Augfor_YS/fig5_sub11.mat does not exist",
     "output_type": "error",
     "traceback": [
      "\u001b[0;31m---------------------------------------------------------------------------\u001b[0m",
      "\u001b[0;31mAssertionError\u001b[0m                            Traceback (most recent call last)",
      "\u001b[1;32m/Users/yushi/Desktop/Course Related/Bio/Visulization/fig.ipynb Cell 7\u001b[0m in \u001b[0;36m<cell line: 2>\u001b[0;34m()\u001b[0m\n\u001b[1;32m      <a href='vscode-notebook-cell:/Users/yushi/Desktop/Course%20Related/Bio/Visulization/fig.ipynb#ch0000006?line=0'>1</a>\u001b[0m \u001b[39mimport\u001b[39;00m \u001b[39mre\u001b[39;00m\n\u001b[1;32m      <a href='vscode-notebook-cell:/Users/yushi/Desktop/Course%20Related/Bio/Visulization/fig.ipynb#ch0000006?line=1'>2</a>\u001b[0m \u001b[39mfor\u001b[39;00m f \u001b[39min\u001b[39;00m os\u001b[39m.\u001b[39mlistdir(\u001b[39m'\u001b[39m\u001b[39mAug6/for_YS/\u001b[39m\u001b[39m'\u001b[39m):\n\u001b[0;32m----> <a href='vscode-notebook-cell:/Users/yushi/Desktop/Course%20Related/Bio/Visulization/fig.ipynb#ch0000006?line=2'>3</a>\u001b[0m     mat\u001b[39m=\u001b[39mmat73\u001b[39m.\u001b[39;49mloadmat(os\u001b[39m.\u001b[39;49mpath\u001b[39m.\u001b[39;49mjoin(\u001b[39m'\u001b[39;49m\u001b[39mAugfor_YS/\u001b[39;49m\u001b[39m'\u001b[39;49m,f))\n\u001b[1;32m      <a href='vscode-notebook-cell:/Users/yushi/Desktop/Course%20Related/Bio/Visulization/fig.ipynb#ch0000006?line=3'>4</a>\u001b[0m     \u001b[39mif\u001b[39;00m \u001b[39m'\u001b[39m\u001b[39mcoor\u001b[39m\u001b[39m'\u001b[39m \u001b[39min\u001b[39;00m mat\u001b[39m.\u001b[39mkeys():\n\u001b[1;32m      <a href='vscode-notebook-cell:/Users/yushi/Desktop/Course%20Related/Bio/Visulization/fig.ipynb#ch0000006?line=4'>5</a>\u001b[0m         f1\u001b[39m=\u001b[39mmat[\u001b[39m'\u001b[39m\u001b[39mfaces\u001b[39m\u001b[39m'\u001b[39m]\n",
      "File \u001b[0;32m~/opt/anaconda3/envs/Motion/lib/python3.9/site-packages/mat73/__init__.py:307\u001b[0m, in \u001b[0;36mloadmat\u001b[0;34m(filename, use_attrdict, only_include, verbose)\u001b[0m\n\u001b[1;32m    288\u001b[0m \u001b[39mdef\u001b[39;00m \u001b[39mloadmat\u001b[39m(filename, use_attrdict\u001b[39m=\u001b[39m\u001b[39mFalse\u001b[39;00m, only_include\u001b[39m=\u001b[39m\u001b[39mNone\u001b[39;00m, verbose\u001b[39m=\u001b[39m\u001b[39mTrue\u001b[39;00m):\n\u001b[1;32m    289\u001b[0m     \u001b[39m\"\"\"\u001b[39;00m\n\u001b[1;32m    290\u001b[0m \u001b[39m    Loads a MATLAB 7.3 .mat file, which is actually a\u001b[39;00m\n\u001b[1;32m    291\u001b[0m \u001b[39m    HDF5 file with some custom matlab annotations inside\u001b[39;00m\n\u001b[0;32m   (...)\u001b[0m\n\u001b[1;32m    305\u001b[0m \u001b[39m    :returns: A dictionary with the matlab variables loaded\u001b[39;00m\n\u001b[1;32m    306\u001b[0m \u001b[39m    \"\"\"\u001b[39;00m\n\u001b[0;32m--> 307\u001b[0m     \u001b[39massert\u001b[39;00m os\u001b[39m.\u001b[39mpath\u001b[39m.\u001b[39misfile(filename), \u001b[39m'\u001b[39m\u001b[39m{}\u001b[39;00m\u001b[39m does not exist\u001b[39m\u001b[39m'\u001b[39m\u001b[39m.\u001b[39mformat(filename)\n\u001b[1;32m    308\u001b[0m     decoder \u001b[39m=\u001b[39m HDF5Decoder(verbose\u001b[39m=\u001b[39mverbose, use_attrdict\u001b[39m=\u001b[39muse_attrdict,\n\u001b[1;32m    309\u001b[0m                           only_include\u001b[39m=\u001b[39monly_include)\n\u001b[1;32m    311\u001b[0m     ext \u001b[39m=\u001b[39m os\u001b[39m.\u001b[39mpath\u001b[39m.\u001b[39msplitext(filename)[\u001b[39m1\u001b[39m]\u001b[39m.\u001b[39mlower()\n",
      "\u001b[0;31mAssertionError\u001b[0m: Augfor_YS/fig5_sub11.mat does not exist"
     ]
    }
   ],
   "source": [
    "import re\n",
    "import matplotlib.pyplot as plt\n",
    "import matplotlib as mpl\n",
    "for f in os.listdir('Aug6/for_YS/'):\n",
    "    mat=mat73.loadmat(os.path.join('Augfor_YS/',f))\n",
    "    if 'coor' in mat.keys():\n",
    "        f1=mat['faces']\n",
    "        v1=mat['vertices']\n",
    "        delindex=[]\n",
    "        for i,v in enumerate(mat['vertices']):\n",
    "            if v in mat['coor']:\n",
    "                delindex.append(i)\n",
    "        v1=np.delete(v1,delindex,0)\n",
    "        c=np.delete(mat['values'],delindex,0)\n",
    "        del_v=delindex\n",
    "        delindex=[]\n",
    "        print(f1.shape)\n",
    "        mask=np.zeros(f1.shape)\n",
    "        mi=mat['indices']\n",
    "        for i in range(mi.shape[0]):\n",
    "            mask=np.logical_or(mask,f1==mi[i])\n",
    "        delindex=np.sum(mask,1)\n",
    "        \n",
    "        to_del=np.where(delindex>0)\n",
    "        f1=np.delete(f1,to_del,0)\n",
    "        rows,cols=f1.shape\n",
    "        for i in range(rows):\n",
    "            for j in range(cols):\n",
    "                if f1[i][j]>del_v[0] and f1[i][j]<del_v[1]:\n",
    "                    f1[i][j]-=1\n",
    "                elif f1[i][j]>del_v[1]:\n",
    "                    f1[i][j]-=2\n",
    "        if re.match('fig5.*',f) is not None:  \n",
    "            minv=-1.8\n",
    "            maxv=2\n",
    "        else:\n",
    "            minv=min(c)\n",
    "            maxv=max(c)\n",
    "        print(f,minv,maxv)\n",
    "        fig, ax = plt.subplots(figsize=(6, 1))\n",
    "        fig.subplots_adjust(bottom=0.5)\n",
    "\n",
    "        cmap = mpl.cm.jet\n",
    "        norm = mpl.colors.Normalize(vmin=minv, vmax=maxv)\n",
    "\n",
    "        cb1 = mpl.colorbar.ColorbarBase(ax, cmap=cmap,\n",
    "                                        norm=norm,\n",
    "                                        orientation='horizontal')\n",
    "        cb1.set_label(f)\n",
    "        fig.show()\n",
    "        name=os.path.splitext(f)[0]\n",
    "        fig.savefig(name) \n",
    "        c=linear_mapping(c,minv,maxv)\n",
    "        Visual_3D(v1,f1,c,f)\n",
    "        \n",
    "        "
   ]
  },
  {
   "cell_type": "code",
   "execution_count": 17,
   "metadata": {},
   "outputs": [
    {
     "name": "stdout",
     "output_type": "stream",
     "text": [
      "/ll3/project/GIMRI_model/results/figures/for_YS/ddw_fig1_sub7.mat\n",
      "dict_keys(['faces', 'values', 'vertices'])\n",
      "ddw_fig1_sub7.mat 0.10984932827811271 0.6944754743803967\n",
      "fail\n",
      "ddw_fig1_sub7.mat 0.10984932827811271 0.6944754743803967\n"
     ]
    },
    {
     "name": "stderr",
     "output_type": "stream",
     "text": [
      "/tmp/ipykernel_3331082/2524829142.py:63: UserWarning: Matplotlib is currently using module://matplotlib_inline.backend_inline, which is a non-GUI backend, so cannot show the figure.\n",
      "  fig.show()\n"
     ]
    },
    {
     "data": {
      "application/vnd.jupyter.widget-view+json": {
       "model_id": "cddcb3600e4145d3bd5713a59ee3ccf9",
       "version_major": 2,
       "version_minor": 0
      },
      "text/plain": [
       "Renderer(camera=PerspectiveCamera(children=(HemisphereLight(intensity=0.8, position=(0.16473674774169922, -1.2…"
      ]
     },
     "metadata": {},
     "output_type": "display_data"
    },
    {
     "name": "stdout",
     "output_type": "stream",
     "text": [
      "Plot saved to file Nov23ddw_fig1_sub7.mat.html.\n",
      "/ll3/project/GIMRI_model/results/figures/for_YS/ddw_fig1_sub8.mat\n",
      "dict_keys(['faces', 'values', 'vertices'])\n",
      "ddw_fig1_sub8.mat 0.10984932827811271 0.6944754743803967\n",
      "fail\n",
      "ddw_fig1_sub8.mat 0.10984932827811271 0.6944754743803967\n"
     ]
    },
    {
     "data": {
      "application/vnd.jupyter.widget-view+json": {
       "model_id": "82bce7e83cbf4994af205b06f81b5fd2",
       "version_major": 2,
       "version_minor": 0
      },
      "text/plain": [
       "Renderer(camera=PerspectiveCamera(children=(HemisphereLight(intensity=0.8, position=(0.7656364440917969, 0.884…"
      ]
     },
     "metadata": {},
     "output_type": "display_data"
    },
    {
     "name": "stdout",
     "output_type": "stream",
     "text": [
      "Plot saved to file Nov23ddw_fig1_sub8.mat.html.\n"
     ]
    },
    {
     "data": {
      "image/png": "[encoded data removed]",
      "text/plain": [
       "<Figure size 432x72 with 1 Axes>"
      ]
     },
     "metadata": {
      "needs_background": "light"
     },
     "output_type": "display_data"
    },
    {
     "data": {
      "image/png": "[encoded data removed]",
      "text/plain": [
       "<Figure size 432x72 with 1 Axes>"
      ]
     },
     "metadata": {
      "needs_background": "light"
     },
     "output_type": "display_data"
    }
   ],
   "source": [
    "import re\n",
    "import matplotlib.pyplot as plt\n",
    "import matplotlib as mpl\n",
    "for f in os.listdir('/ll3/project/GIMRI_model/results/figures/for_YS/'):\n",
    "    if re.match(f'ddw.*sub[7-8].*',f):\n",
    "        name=os.path.join('/ll3/project/GIMRI_model/results/figures/for_YS/',f)\n",
    "        print(name)\n",
    "        mat=mat73.loadmat(name)\n",
    "        print(mat.keys())\n",
    "        f1=mat['faces']\n",
    "        v1=mat['vertices']\n",
    "        c=mat['values']\n",
    "        # delindex=[]\n",
    "        # for i,v in enumerate(mat['vertices']):\n",
    "        #     if v in mat['coor']:\n",
    "        #         delindex.append(i)\n",
    "        # v1=np.delete(v1,delindex,0)\n",
    "        # c=np.delete(mat['values'],delindex,0)\n",
    "        # del_v=delindex\n",
    "        # delindex=[]\n",
    "        # print(f1.shape)\n",
    "        # mask=np.zeros(f1.shape)\n",
    "        # mi=mat['indices']\n",
    "        # for i in range(mi.shape[0]):\n",
    "        #     mask=np.logical_or(mask,f1==mi[i])\n",
    "        # delindex=np.sum(mask,1)\n",
    "        \n",
    "        # to_del=np.where(delindex>0)\n",
    "        # f1=np.delete(f1,to_del,0)\n",
    "        # rows,cols=f1.shape\n",
    "        # for i in range(rows):\n",
    "        #     for j in range(cols):\n",
    "        #         if f1[i][j]>del_v[0] and f1[i][j]<del_v[1]:\n",
    "        #             f1[i][j]-=1\n",
    "        #         elif f1[i][j]>del_v[1]:\n",
    "        #             f1[i][j]-=2\n",
    "        \n",
    "        minv=min(c)\n",
    "        maxv=max(c)\n",
    "        print(f,minv,maxv)\n",
    "        try:\n",
    "            minv=mat['min']\n",
    "            maxv=mat['max']\n",
    "        except:\n",
    "            print(\"fail\")\n",
    "            #c=linear_mapping(c,minv,maxv)\n",
    "            c=np.array([0.85,0.325,0.098])\n",
    "            \n",
    "        #     Visual_3D(v1,f1,c,f)\n",
    "        #     break\n",
    "        # minv=-1.5\n",
    "        # maxv=1.5\n",
    "        fig, ax = plt.subplots(figsize=(6, 1))\n",
    "        fig.subplots_adjust(bottom=0.5)\n",
    "\n",
    "        cmap = mpl.cm.jet\n",
    "        norm = mpl.colors.Normalize(vmin=minv, vmax=maxv)\n",
    "\n",
    "        cb1 = mpl.colorbar.ColorbarBase(ax, cmap=cmap,\n",
    "                                        norm=norm,\n",
    "                                        orientation='horizontal')\n",
    "        cb1.set_label(\"Nov23\"+f)\n",
    "        fig.show()\n",
    "        name=os.path.splitext(f)[0]\n",
    "        fig.savefig(name) \n",
    "        print(f,minv,maxv)\n",
    "        c=linear_mapping(mat['values'],minv,maxv)\n",
    "        Visual_3D(v1,f1,c,\"Nov23\"+f)\n",
    "        "
   ]
  },
  {
   "cell_type": "code",
   "execution_count": 69,
   "metadata": {},
   "outputs": [
    {
     "name": "stdout",
     "output_type": "stream",
     "text": [
      "[4662. 4663.]\n"
     ]
    }
   ],
   "source": [
    "name=os.path.join('/project/GIMRI_model/results/figures/for_YS/','fig5_sub4.mat')\n",
    "mat=mat73.loadmat(name)\n",
    "print(mat['indices'])"
   ]
  },
  {
   "cell_type": "code",
   "execution_count": 16,
   "metadata": {},
   "outputs": [
    {
     "data": {
      "application/vnd.jupyter.widget-view+json": {
       "model_id": "a2e6a863d1234903899b020e19b9b6bd",
       "version_major": 2,
       "version_minor": 0
      },
      "text/plain": [
       "Renderer(camera=PerspectiveCamera(children=(HemisphereLight(intensity=0.8, position=(-6.832683563232422, -3.97…"
      ]
     },
     "metadata": {},
     "output_type": "display_data"
    },
    {
     "name": "stdout",
     "output_type": "stream",
     "text": [
      "Plot saved to file Nov23ddw_fig1_sub1.html.\n"
     ]
    },
    {
     "name": "stderr",
     "output_type": "stream",
     "text": [
      "/tmp/ipykernel_3331082/2177081679.py:14: DeprecationWarning: `np.int` is a deprecated alias for the builtin `int`. To silence this warning, use `int` by itself. Doing this will not modify any behavior and is safe. When replacing `np.int`, you may wish to use e.g. `np.int64` or `np.int32` to specify the precision. If you wish to review your current use, check the release note link for additional information.\n",
      "Deprecated in NumPy 1.20; for more details and guidance: https://numpy.org/devdocs/release/1.20.0-notes.html#deprecations\n",
      "  [7, 4], [0, 4], [1, 5], [2, 6], [7, 3]], dtype=np.int)\n"
     ]
    },
    {
     "data": {
      "application/vnd.jupyter.widget-view+json": {
       "model_id": "a1bfd6c15b5d45acb604691b01983576",
       "version_major": 2,
       "version_minor": 0
      },
      "text/plain": [
       "Renderer(camera=PerspectiveCamera(children=(HemisphereLight(intensity=0.8, position=(-10.191215515136719, -3.2…"
      ]
     },
     "metadata": {},
     "output_type": "display_data"
    },
    {
     "name": "stdout",
     "output_type": "stream",
     "text": [
      "Plot saved to file Nov23ddw_fig1_sub2.html.\n"
     ]
    },
    {
     "data": {
      "application/vnd.jupyter.widget-view+json": {
       "model_id": "ca40b81752c64b1a8068b6c5acc4e07d",
       "version_major": 2,
       "version_minor": 0
      },
      "text/plain": [
       "Renderer(camera=PerspectiveCamera(children=(HemisphereLight(intensity=0.8, position=(0.004814624786376953, 0.3…"
      ]
     },
     "metadata": {},
     "output_type": "display_data"
    },
    {
     "name": "stdout",
     "output_type": "stream",
     "text": [
      "Plot saved to file Nov23ddw_fig1_sub3.html.\n"
     ]
    },
    {
     "data": {
      "application/vnd.jupyter.widget-view+json": {
       "model_id": "7f13fc2a8b344980920363fe084dea40",
       "version_major": 2,
       "version_minor": 0
      },
      "text/plain": [
       "Renderer(camera=PerspectiveCamera(children=(HemisphereLight(intensity=0.8, position=(0.07393312454223633, 0.31…"
      ]
     },
     "metadata": {},
     "output_type": "display_data"
    },
    {
     "name": "stdout",
     "output_type": "stream",
     "text": [
      "Plot saved to file Nov23ddw_fig1_sub4.html.\n"
     ]
    },
    {
     "data": {
      "application/vnd.jupyter.widget-view+json": {
       "model_id": "5638d945eb2441ce9f25abea57c4c3d5",
       "version_major": 2,
       "version_minor": 0
      },
      "text/plain": [
       "Renderer(camera=PerspectiveCamera(children=(HemisphereLight(intensity=0.8, position=(0.08640861511230469, 0.22…"
      ]
     },
     "metadata": {},
     "output_type": "display_data"
    },
    {
     "name": "stdout",
     "output_type": "stream",
     "text": [
      "Plot saved to file Nov23ddw_fig1_sub5.html.\n"
     ]
    },
    {
     "data": {
      "application/vnd.jupyter.widget-view+json": {
       "model_id": "8b1d21d742d64915bda0953495f2f007",
       "version_major": 2,
       "version_minor": 0
      },
      "text/plain": [
       "Renderer(camera=PerspectiveCamera(children=(HemisphereLight(intensity=0.8, position=(0.12029123306274414, 0.64…"
      ]
     },
     "metadata": {},
     "output_type": "display_data"
    },
    {
     "name": "stdout",
     "output_type": "stream",
     "text": [
      "Plot saved to file Nov23ddw_fig1_sub6.html.\n"
     ]
    }
   ],
   "source": [
    "import re\n",
    "for f in os.listdir('/ll3/project/GIMRI_model/results/figures/for_YS/'):\n",
    "    \"\"\"\n",
    "    if re.match(f'fig10_sub3',f):\n",
    "        \n",
    "        mat=mat73.loadmat(os.path.join('/ll3/project/GIMRI_model/abstract/for_YS/',f))\n",
    "        print(mat)\n",
    "        #print(f,mat.keys())\n",
    "        #c=np.array([250, 77, 9])/255\n",
    "        c=np.repeat(np.array([[0.85,0.325,0.098]]),mat['values'].shape,axis=0)\n",
    "        color=mat['values']\n",
    "        for i,cc in enumerate(color):\n",
    "            if cc!=1 :\n",
    "                c[i,:]=np.array([0,0.447,0.7410])\n",
    "        \n",
    "        print(c)\n",
    "        name=os.path.splitext(f)[0]\n",
    "        m=[20,15,10]\n",
    "        ma=[-20,-15,-10]\n",
    "        v=mat['vertices']\n",
    "        m=[np.max(v[:,0]),np.max(v[:,1]),np.max(v[:,2])]\n",
    "        ma=[np.min(v[:,0]),np.min(v[:,1]),np.min(v[:,2])]\n",
    "        #print(m,ma)\n",
    "        coor={}\n",
    "        coor['m']=[20,20,15]\n",
    "        coor['ma']=[-20,-20,-15]\n",
    "        Visual_3D(mat['vertices'],mat['faces'],c,n='Oct10'+name,v_box_coods=coor)\n",
    "        \"\"\"\n",
    "    \n",
    "    if re.match('ddw.*sub[1-6].*',f):\n",
    "        mat=mat73.loadmat(os.path.join('/ll3/project/GIMRI_model/results/figures/for_YS/',f))\n",
    "        #print(f,mat.keys())\n",
    "        #c=np.array([250, 77, 9])/255\n",
    "        c=np.array([0.85,0.325,0.098])\n",
    "        name=os.path.splitext(f)[0]\n",
    "        m=[20,15,10]\n",
    "        ma=[-20,-15,-10]\n",
    "        v=mat['vertices']\n",
    "        m=[np.max(v[:,0]),np.max(v[:,1]),np.max(v[:,2])]\n",
    "        ma=[np.min(v[:,0]),np.min(v[:,1]),np.min(v[:,2])]\n",
    "        #print(m,ma)\n",
    "        coor={}\n",
    "        coor['m']=[20,20,15]\n",
    "        coor['ma']=[-20,-20,-15]\n",
    "        Visual_3D(mat['vertices'],mat['faces'],c,n='Nov23'+name,v_box_coods=coor)\n",
    "    \n",
    "    \"\"\"\n",
    "    num=[a for a in range(35,45)]\n",
    "    for i in num:\n",
    "        if re.match(f'fig5.*{i}.*',f):\n",
    "            mat=mat73.loadmat(os.path.join('Aug6/for_YS/',f))\n",
    "            #print(f,mat.keys())\n",
    "            c=linear_mapping(mat['values'],0,1)\n",
    "            name=os.path.splitext(f)[0]\n",
    "            Visual_3D(mat['vertices'],mat['faces'],c,n='Aug6'+name)\n",
    "    \"\"\"   \n",
    "    #if f=='fig4_sub2.mat':\n",
    "    #    mat=mat73.loadmat(os.path.join('Aug6/for_YS/',f))\n",
    "    #    print(f,mat.keys())\n",
    "    #    Visual_3D(mat['vertices'],mat['faces'],np.array([250, 77, 9])/255,n='land_2',add_landmark=mat['landmarks'])"
   ]
  },
  {
   "cell_type": "code",
   "execution_count": null,
   "metadata": {},
   "outputs": [],
   "source": [
    "import re\n",
    "for f in os.listdir('/project/GIMRI_model/results/figures/for_YS/'):\n",
    "    \n",
    "    num=[a for a in range(1,51)]\n",
    "    for i in num:\n",
    "        if re.match(f'fig7.*{i}.*',f):\n",
    "            mat=mat73.loadmat(os.path.join('/project/GIMRI_model/results/figures/for_YS/',f))\n",
    "            #print(f,mat.keys())\n",
    "            c=np.array([250, 77, 9])/255\n",
    "            name=os.path.splitext(f)[0]\n",
    "            m=[15,17,12]\n",
    "            ma=[-15,-17,-12]\n",
    "            v=mat['vertices']\n",
    "            m=[np.max(v[:,0]),np.max(v[:,1]),np.max(v[:,2])]\n",
    "            ma=[np.min(v[:,0]),np.min(v[:,1]),np.min(v[:,2])]\n",
    "            #print(m,ma)\n",
    "            coor={}\n",
    "            coor['m']=[18,18,12]\n",
    "            coor['ma']=[-18,-18,-12]\n",
    "            Visual_3D(mat['vertices'],mat['faces'],c,n='Aug19'+name,v_box_coods=coor)"
   ]
  },
  {
   "cell_type": "code",
   "execution_count": 41,
   "metadata": {},
   "outputs": [
    {
     "data": {
      "application/vnd.jupyter.widget-view+json": {
       "model_id": "221996cea17d4756a0e2cb101e258654",
       "version_major": 2,
       "version_minor": 0
      },
      "text/plain": [
       "Renderer(camera=PerspectiveCamera(children=(HemisphereLight(intensity=0.8, position=(1.5123066902160645, 0.802…"
      ]
     },
     "metadata": {},
     "output_type": "display_data"
    },
    {
     "name": "stdout",
     "output_type": "stream",
     "text": [
      "Plot saved to file point.html.\n"
     ]
    },
    {
     "name": "stderr",
     "output_type": "stream",
     "text": [
      "/tmp/ipykernel_237367/2100214028.py:12: DeprecationWarning: `np.int` is a deprecated alias for the builtin `int`. To silence this warning, use `int` by itself. Doing this will not modify any behavior and is safe. When replacing `np.int`, you may wish to use e.g. `np.int64` or `np.int32` to specify the precision. If you wish to review your current use, check the release note link for additional information.\n",
      "Deprecated in NumPy 1.20; for more details and guidance: https://numpy.org/devdocs/release/1.20.0-notes.html#deprecations\n",
      "  [7, 4], [0, 4], [1, 5], [2, 6], [7, 3]], dtype=np.int)\n"
     ]
    }
   ],
   "source": [
    "mat=mat73.loadmat('/project/GIMRI_model/results/figures/for_YS/fig6_sub6.mat')\n",
    "\n",
    "p=mp.plot(mat['vertices'],shading={\"point_size\": 1.1})\n",
    "m=[15,17,12]\n",
    "ma=[-15,-17,-12]\n",
    "\n",
    "v_box = np.array([[m[0], m[1], m[2]], [ma[0], m[1], m[2]], [ma[0], ma[1], m[2]], [m[0], ma[1], m[2]],\n",
    "                  [m[0], m[1], ma[2]], [ma[0], m[1], ma[2]], [ma[0], ma[1], ma[2]], [m[0], ma[1], ma[2]]])\n",
    "\n",
    "# Edges of the bounding box\n",
    "f_box = np.array([[0, 1], [1, 2], [2, 3], [3, 0], [4, 5], [5, 6], [6, 7], \n",
    "                  [7, 4], [0, 4], [1, 5], [2, 6], [7, 3]], dtype=np.int)\n",
    "\n",
    "\n",
    "\n",
    "p.add_points(v_box, shading={\"point_color\": \"white\"})\n",
    "p.save('point.html')"
   ]
  },
  {
   "cell_type": "code",
   "execution_count": 7,
   "metadata": {},
   "outputs": [
    {
     "name": "stderr",
     "output_type": "stream",
     "text": [
      "/tmp/ipykernel_783126/884629253.py:10: DeprecationWarning: use options instead of chrome_options\n",
      "  driver=webdriver.Chrome(executable_path='/ll3/home/yushi/Desktop/Research/visulizzation/chromedriver',chrome_options=chrome_option)\n"
     ]
    },
    {
     "name": "stdout",
     "output_type": "stream",
     "text": [
      "file:///ll3/home/yushi/Desktop/Research/visulizzation/Nov4fig1_awake_before_sub5.html\n",
      "end...\n",
      "file:///ll3/home/yushi/Desktop/Research/visulizzation/Nov4fig2_P1_108_1_d15.html\n",
      "end...\n",
      "file:///ll3/home/yushi/Desktop/Research/visulizzation/Nov4fig2_P1_106_1_avg.html\n",
      "end...\n",
      "file:///ll3/home/yushi/Desktop/Research/visulizzation/Nov4fig2_P1_106_1_d17.html\n",
      "end...\n",
      "file:///ll3/home/yushi/Desktop/Research/visulizzation/Nov4fig2_P1_105_2_d15.html\n",
      "end...\n",
      "file:///ll3/home/yushi/Desktop/Research/visulizzation/Nov4fig2_P1_106_1_d18.html\n",
      "end...\n",
      "file:///ll3/home/yushi/Desktop/Research/visulizzation/Nov4fig2_P1_105_2_d16.html\n",
      "end...\n",
      "file:///ll3/home/yushi/Desktop/Research/visulizzation/Nov4fig1_awake_after_sub1.html\n",
      "end...\n",
      "file:///ll3/home/yushi/Desktop/Research/visulizzation/Nov4fig1_anes_after_sub1.html\n",
      "end...\n",
      "file:///ll3/home/yushi/Desktop/Research/visulizzation/Nov4fig1_anes_before_sub5.html\n",
      "end...\n",
      "file:///ll3/home/yushi/Desktop/Research/visulizzation/Nov4fig2_P1_108_1_avg.html\n",
      "end...\n",
      "file:///ll3/home/yushi/Desktop/Research/visulizzation/Nov4fig2_P1_108_1_d14.html\n",
      "end...\n",
      "file:///ll3/home/yushi/Desktop/Research/visulizzation/Nov4fig2_P1_108_1_d17.html\n",
      "end...\n",
      "file:///ll3/home/yushi/Desktop/Research/visulizzation/Nov4fig2_P1_106_1_d16.html\n",
      "end...\n",
      "file:///ll3/home/yushi/Desktop/Research/visulizzation/Nov4fig2_P1_105_2_d13.html\n",
      "end...\n",
      "file:///ll3/home/yushi/Desktop/Research/visulizzation/Nov4fig2_P1_105_3_avg.html\n",
      "end...\n",
      "file:///ll3/home/yushi/Desktop/Research/visulizzation/Nov4fig2_P1_105_2_d14.html\n",
      "end...\n",
      "file:///ll3/home/yushi/Desktop/Research/visulizzation/Nov4fig1_awake_before_sub1.html\n",
      "end...\n",
      "file:///ll3/home/yushi/Desktop/Research/visulizzation/Nov4fig1_anes_before_sub1.html\n",
      "end...\n",
      "file:///ll3/home/yushi/Desktop/Research/visulizzation/Nov4fig1_anes_after_sub5.html\n",
      "end...\n",
      "file:///ll3/home/yushi/Desktop/Research/visulizzation/Nov4fig1_awake_after_sub5.html\n",
      "end...\n",
      "file:///ll3/home/yushi/Desktop/Research/visulizzation/Nov4fig2_P1_108_1_d13.html\n",
      "end...\n",
      "file:///ll3/home/yushi/Desktop/Research/visulizzation/Nov4fig2_P1_108_1_d16.html\n",
      "end...\n",
      "file:///ll3/home/yushi/Desktop/Research/visulizzation/Nov4fig2_P1_106_1_d15.html\n",
      "end...\n",
      "file:///ll3/home/yushi/Desktop/Research/visulizzation/Nov4fig2_P1_106_1_d19.html\n",
      "end...\n",
      "file:///ll3/home/yushi/Desktop/Research/visulizzation/Nov4fig2_P1_105_2_d17.html\n",
      "end...\n"
     ]
    }
   ],
   "source": [
    "from selenium import webdriver\n",
    "from selenium.webdriver.common.action_chains import ActionChains,ActionBuilder\n",
    "from time import sleep\n",
    "import os\n",
    "\n",
    "\n",
    "\n",
    "chrome_option=webdriver.ChromeOptions()\n",
    "#chrome_option.add_argument('--headless')\n",
    "driver=webdriver.Chrome(executable_path='/ll3/home/yushi/Desktop/Research/visulizzation/chromedriver',chrome_options=chrome_option)\n",
    "path=os.getcwd()\n",
    "X=800\n",
    "Y=800\n",
    "driver.set_window_size(X,Y)\n",
    "path=os.getcwd()\n",
    "#print(os.path.join(path,'slices1.html'))\n",
    "for f in os.listdir('.'):\n",
    "    \"\"\"\n",
    "    if re.match('Aug19fig7.*.html',f) or re.match('point.html',f):\n",
    "        driver.get(\"file://\"+os.path.join(path,f))\n",
    "        sleep(3)\n",
    "        print(\"file://\"+os.path.join(path,f))\n",
    "        action = ActionBuilder(driver)\n",
    "        action.pointer_action.move_to_location(300, 300)\n",
    "        action.perform()\n",
    "        ActionChains(driver).click_and_hold().move_by_offset(255,0).perform()\n",
    "        sleep(1)\n",
    "        driver.get_screenshot_as_file(os.path.splitext(f)[0]+'front.png')\n",
    "        \n",
    "        #driver.quit()\n",
    "        print(\"end...\")\n",
    "    \n",
    "    if re.match('Aug19fig7.*.html',f):\n",
    "        driver.get(\"file://\"+os.path.join(path,f))\n",
    "        sleep(3)\n",
    "        print(\"file://\"+os.path.join(path,f))\n",
    "        action = ActionBuilder(driver)\n",
    "        action.pointer_action.move_to_location(300, 300)\n",
    "        action.perform()\n",
    "        ActionChains(driver).click_and_hold().move_by_offset(250,0).perform()\n",
    "        sleep(1)\n",
    "        driver.get_screenshot_as_file(os.path.splitext(f)[0]+'front.png')\n",
    "        \n",
    "        #driver.quit()\n",
    "        print(\"end...\")\n",
    "    \n",
    "    \"\"\"\n",
    "    \n",
    "    if re.match('Nov4.*.html',f):\n",
    "        driver.get(\"file://\"+os.path.join(path,f))\n",
    "        sleep(5)\n",
    "        print(\"file://\"+os.path.join(path,f))\n",
    "        \n",
    "        \n",
    "        action = ActionBuilder(driver)\n",
    "        action.pointer_action.move_to_location(300, 300)\n",
    "        action.perform()\n",
    "        ActionChains(driver).click_and_hold().move_by_offset(-40,0).perform()\n",
    "        driver.get_screenshot_as_file(os.path.splitext(f)[0]+'front.png')\n",
    "        ActionChains(driver).click_and_hold().move_by_offset(300,0).perform()\n",
    "        driver.get_screenshot_as_file(os.path.splitext(f)[0]+'back.png')\n",
    "        ActionChains(driver).click_and_hold().move_by_offset(-300,0).perform()\n",
    "        ActionChains(driver).click_and_hold().move_by_offset(0,295).perform()\n",
    "        driver.get_screenshot_as_file(os.path.splitext(f)[0]+'up.png')\n",
    "        ActionChains(driver).click_and_hold().move_by_offset(0,-295).perform()\n",
    "        ActionChains(driver).click_and_hold().move_by_offset(0,-290).perform()\n",
    "        driver.get_screenshot_as_file(os.path.splitext(f)[0]+'bottom.png')\n",
    "        #driver.quit()\n",
    "        print(\"end...\")\n",
    "    \"\"\"\n",
    "    \n",
    "    if re.match('Aug.*3[5-9].*.html',f):\n",
    "        driver.get(\"file://\"+os.path.join(path,f))\n",
    "        sleep(5)\n",
    "        print(\"file://\"+os.path.join(path,f))\n",
    "        \n",
    "        driver.get_screenshot_as_file(os.path.splitext(f)[0]+'front.png')\n",
    "        action = ActionBuilder(driver)\n",
    "        action.pointer_action.move_to_location(300, 300)\n",
    "        action.perform()\n",
    "        ActionChains(driver).click_and_hold().move_by_offset(300,0).perform()\n",
    "        driver.get_screenshot_as_file(os.path.splitext(f)[0]+'back.png')\n",
    "        ActionChains(driver).click_and_hold().move_by_offset(-300,0).perform()\n",
    "        ActionChains(driver).click_and_hold().move_by_offset(0,290).perform()\n",
    "        driver.get_screenshot_as_file(os.path.splitext(f)[0]+'up.png')\n",
    "        ActionChains(driver).click_and_hold().move_by_offset(0,-290).perform()\n",
    "        ActionChains(driver).click_and_hold().move_by_offset(0,-290).perform()\n",
    "        driver.get_screenshot_as_file(os.path.splitext(f)[0]+'bottom.png')\n",
    "        driver.quit()\n",
    "        print(\"end...\")\n",
    "    \"\"\"\n"
   ]
  },
  {
   "cell_type": "code",
   "execution_count": 19,
   "metadata": {},
   "outputs": [
    {
     "name": "stderr",
     "output_type": "stream",
     "text": [
      "/tmp/ipykernel_9598/3943592569.py:10: DeprecationWarning: use options instead of chrome_options\n",
      "  driver=webdriver.Chrome(executable_path='/Users/yushi/Downloads/chromedriver_3',chrome_options=chrome_option)\n"
     ]
    },
    {
     "ename": "WebDriverException",
     "evalue": "Message: 'chromedriver_3' executable needs to be in PATH. Please see https://sites.google.com/a/chromium.org/chromedriver/home\n",
     "output_type": "error",
     "traceback": [
      "\u001b[0;31m---------------------------------------------------------------------------\u001b[0m",
      "\u001b[0;31mFileNotFoundError\u001b[0m                         Traceback (most recent call last)",
      "File \u001b[0;32m~/.conda/envs/ysvenv/lib/python3.9/site-packages/selenium/webdriver/common/service.py:72\u001b[0m, in \u001b[0;36mService.start\u001b[0;34m(self)\u001b[0m\n\u001b[1;32m     71\u001b[0m     cmd\u001b[39m.\u001b[39mextend(\u001b[39mself\u001b[39m\u001b[39m.\u001b[39mcommand_line_args())\n\u001b[0;32m---> 72\u001b[0m     \u001b[39mself\u001b[39m\u001b[39m.\u001b[39mprocess \u001b[39m=\u001b[39m subprocess\u001b[39m.\u001b[39;49mPopen(cmd, env\u001b[39m=\u001b[39;49m\u001b[39mself\u001b[39;49m\u001b[39m.\u001b[39;49menv,\n\u001b[1;32m     73\u001b[0m                                     close_fds\u001b[39m=\u001b[39;49mplatform\u001b[39m.\u001b[39;49msystem() \u001b[39m!=\u001b[39;49m \u001b[39m'\u001b[39;49m\u001b[39mWindows\u001b[39;49m\u001b[39m'\u001b[39;49m,\n\u001b[1;32m     74\u001b[0m                                     stdout\u001b[39m=\u001b[39;49m\u001b[39mself\u001b[39;49m\u001b[39m.\u001b[39;49mlog_file,\n\u001b[1;32m     75\u001b[0m                                     stderr\u001b[39m=\u001b[39;49m\u001b[39mself\u001b[39;49m\u001b[39m.\u001b[39;49mlog_file,\n\u001b[1;32m     76\u001b[0m                                     stdin\u001b[39m=\u001b[39;49mPIPE)\n\u001b[1;32m     77\u001b[0m \u001b[39mexcept\u001b[39;00m \u001b[39mTypeError\u001b[39;00m:\n",
      "File \u001b[0;32m~/.conda/envs/ysvenv/lib/python3.9/subprocess.py:951\u001b[0m, in \u001b[0;36mPopen.__init__\u001b[0;34m(self, args, bufsize, executable, stdin, stdout, stderr, preexec_fn, close_fds, shell, cwd, env, universal_newlines, startupinfo, creationflags, restore_signals, start_new_session, pass_fds, user, group, extra_groups, encoding, errors, text, umask)\u001b[0m\n\u001b[1;32m    948\u001b[0m             \u001b[39mself\u001b[39m\u001b[39m.\u001b[39mstderr \u001b[39m=\u001b[39m io\u001b[39m.\u001b[39mTextIOWrapper(\u001b[39mself\u001b[39m\u001b[39m.\u001b[39mstderr,\n\u001b[1;32m    949\u001b[0m                     encoding\u001b[39m=\u001b[39mencoding, errors\u001b[39m=\u001b[39merrors)\n\u001b[0;32m--> 951\u001b[0m     \u001b[39mself\u001b[39;49m\u001b[39m.\u001b[39;49m_execute_child(args, executable, preexec_fn, close_fds,\n\u001b[1;32m    952\u001b[0m                         pass_fds, cwd, env,\n\u001b[1;32m    953\u001b[0m                         startupinfo, creationflags, shell,\n\u001b[1;32m    954\u001b[0m                         p2cread, p2cwrite,\n\u001b[1;32m    955\u001b[0m                         c2pread, c2pwrite,\n\u001b[1;32m    956\u001b[0m                         errread, errwrite,\n\u001b[1;32m    957\u001b[0m                         restore_signals,\n\u001b[1;32m    958\u001b[0m                         gid, gids, uid, umask,\n\u001b[1;32m    959\u001b[0m                         start_new_session)\n\u001b[1;32m    960\u001b[0m \u001b[39mexcept\u001b[39;00m:\n\u001b[1;32m    961\u001b[0m     \u001b[39m# Cleanup if the child failed starting.\u001b[39;00m\n",
      "File \u001b[0;32m~/.conda/envs/ysvenv/lib/python3.9/subprocess.py:1821\u001b[0m, in \u001b[0;36mPopen._execute_child\u001b[0;34m(self, args, executable, preexec_fn, close_fds, pass_fds, cwd, env, startupinfo, creationflags, shell, p2cread, p2cwrite, c2pread, c2pwrite, errread, errwrite, restore_signals, gid, gids, uid, umask, start_new_session)\u001b[0m\n\u001b[1;32m   1820\u001b[0m         err_msg \u001b[39m=\u001b[39m os\u001b[39m.\u001b[39mstrerror(errno_num)\n\u001b[0;32m-> 1821\u001b[0m     \u001b[39mraise\u001b[39;00m child_exception_type(errno_num, err_msg, err_filename)\n\u001b[1;32m   1822\u001b[0m \u001b[39mraise\u001b[39;00m child_exception_type(err_msg)\n",
      "\u001b[0;31mFileNotFoundError\u001b[0m: [Errno 2] No such file or directory: '/Users/yushi/Downloads/chromedriver_3'",
      "\nDuring handling of the above exception, another exception occurred:\n",
      "\u001b[0;31mWebDriverException\u001b[0m                        Traceback (most recent call last)",
      "\u001b[1;32m/home/yushi/Desktop/Research/visulizzation/fig.ipynb Cell 12'\u001b[0m in \u001b[0;36m<cell line: 10>\u001b[0;34m()\u001b[0m\n\u001b[1;32m      <a href='vscode-notebook-cell:/home/yushi/Desktop/Research/visulizzation/fig.ipynb#ch0000010?line=7'>8</a>\u001b[0m chrome_option\u001b[39m=\u001b[39mwebdriver\u001b[39m.\u001b[39mChromeOptions()\n\u001b[1;32m      <a href='vscode-notebook-cell:/home/yushi/Desktop/Research/visulizzation/fig.ipynb#ch0000010?line=8'>9</a>\u001b[0m \u001b[39m#chrome_option.add_argument('--headless')\u001b[39;00m\n\u001b[0;32m---> <a href='vscode-notebook-cell:/home/yushi/Desktop/Research/visulizzation/fig.ipynb#ch0000010?line=9'>10</a>\u001b[0m driver\u001b[39m=\u001b[39mwebdriver\u001b[39m.\u001b[39;49mChrome(executable_path\u001b[39m=\u001b[39;49m\u001b[39m'\u001b[39;49m\u001b[39m/Users/yushi/Downloads/chromedriver_3\u001b[39;49m\u001b[39m'\u001b[39;49m,chrome_options\u001b[39m=\u001b[39;49mchrome_option)\n\u001b[1;32m     <a href='vscode-notebook-cell:/home/yushi/Desktop/Research/visulizzation/fig.ipynb#ch0000010?line=10'>11</a>\u001b[0m path\u001b[39m=\u001b[39mos\u001b[39m.\u001b[39mgetcwd()\n\u001b[1;32m     <a href='vscode-notebook-cell:/home/yushi/Desktop/Research/visulizzation/fig.ipynb#ch0000010?line=11'>12</a>\u001b[0m X\u001b[39m=\u001b[39m\u001b[39m800\u001b[39m\n",
      "File \u001b[0;32m~/.conda/envs/ysvenv/lib/python3.9/site-packages/selenium/webdriver/chrome/webdriver.py:73\u001b[0m, in \u001b[0;36mWebDriver.__init__\u001b[0;34m(self, executable_path, port, options, service_args, desired_capabilities, service_log_path, chrome_options, keep_alive)\u001b[0m\n\u001b[1;32m     66\u001b[0m         desired_capabilities\u001b[39m.\u001b[39mupdate(options\u001b[39m.\u001b[39mto_capabilities())\n\u001b[1;32m     68\u001b[0m \u001b[39mself\u001b[39m\u001b[39m.\u001b[39mservice \u001b[39m=\u001b[39m Service(\n\u001b[1;32m     69\u001b[0m     executable_path,\n\u001b[1;32m     70\u001b[0m     port\u001b[39m=\u001b[39mport,\n\u001b[1;32m     71\u001b[0m     service_args\u001b[39m=\u001b[39mservice_args,\n\u001b[1;32m     72\u001b[0m     log_path\u001b[39m=\u001b[39mservice_log_path)\n\u001b[0;32m---> 73\u001b[0m \u001b[39mself\u001b[39;49m\u001b[39m.\u001b[39;49mservice\u001b[39m.\u001b[39;49mstart()\n\u001b[1;32m     75\u001b[0m \u001b[39mtry\u001b[39;00m:\n\u001b[1;32m     76\u001b[0m     RemoteWebDriver\u001b[39m.\u001b[39m\u001b[39m__init__\u001b[39m(\n\u001b[1;32m     77\u001b[0m         \u001b[39mself\u001b[39m,\n\u001b[1;32m     78\u001b[0m         command_executor\u001b[39m=\u001b[39mChromeRemoteConnection(\n\u001b[1;32m     79\u001b[0m             remote_server_addr\u001b[39m=\u001b[39m\u001b[39mself\u001b[39m\u001b[39m.\u001b[39mservice\u001b[39m.\u001b[39mservice_url,\n\u001b[1;32m     80\u001b[0m             keep_alive\u001b[39m=\u001b[39mkeep_alive),\n\u001b[1;32m     81\u001b[0m         desired_capabilities\u001b[39m=\u001b[39mdesired_capabilities)\n",
      "File \u001b[0;32m~/.conda/envs/ysvenv/lib/python3.9/site-packages/selenium/webdriver/common/service.py:81\u001b[0m, in \u001b[0;36mService.start\u001b[0;34m(self)\u001b[0m\n\u001b[1;32m     79\u001b[0m \u001b[39mexcept\u001b[39;00m \u001b[39mOSError\u001b[39;00m \u001b[39mas\u001b[39;00m err:\n\u001b[1;32m     80\u001b[0m     \u001b[39mif\u001b[39;00m err\u001b[39m.\u001b[39merrno \u001b[39m==\u001b[39m errno\u001b[39m.\u001b[39mENOENT:\n\u001b[0;32m---> 81\u001b[0m         \u001b[39mraise\u001b[39;00m WebDriverException(\n\u001b[1;32m     82\u001b[0m             \u001b[39m\"\u001b[39m\u001b[39m'\u001b[39m\u001b[39m%s\u001b[39;00m\u001b[39m'\u001b[39m\u001b[39m executable needs to be in PATH. \u001b[39m\u001b[39m%s\u001b[39;00m\u001b[39m\"\u001b[39m \u001b[39m%\u001b[39m (\n\u001b[1;32m     83\u001b[0m                 os\u001b[39m.\u001b[39mpath\u001b[39m.\u001b[39mbasename(\u001b[39mself\u001b[39m\u001b[39m.\u001b[39mpath), \u001b[39mself\u001b[39m\u001b[39m.\u001b[39mstart_error_message)\n\u001b[1;32m     84\u001b[0m         )\n\u001b[1;32m     85\u001b[0m     \u001b[39melif\u001b[39;00m err\u001b[39m.\u001b[39merrno \u001b[39m==\u001b[39m errno\u001b[39m.\u001b[39mEACCES:\n\u001b[1;32m     86\u001b[0m         \u001b[39mraise\u001b[39;00m WebDriverException(\n\u001b[1;32m     87\u001b[0m             \u001b[39m\"\u001b[39m\u001b[39m'\u001b[39m\u001b[39m%s\u001b[39;00m\u001b[39m'\u001b[39m\u001b[39m executable may have wrong permissions. \u001b[39m\u001b[39m%s\u001b[39;00m\u001b[39m\"\u001b[39m \u001b[39m%\u001b[39m (\n\u001b[1;32m     88\u001b[0m                 os\u001b[39m.\u001b[39mpath\u001b[39m.\u001b[39mbasename(\u001b[39mself\u001b[39m\u001b[39m.\u001b[39mpath), \u001b[39mself\u001b[39m\u001b[39m.\u001b[39mstart_error_message)\n\u001b[1;32m     89\u001b[0m         )\n",
      "\u001b[0;31mWebDriverException\u001b[0m: Message: 'chromedriver_3' executable needs to be in PATH. Please see https://sites.google.com/a/chromium.org/chromedriver/home\n"
     ]
    }
   ],
   "source": [
    "from selenium import webdriver\n",
    "from selenium.webdriver.common.action_chains import ActionChains,ActionBuilder\n",
    "from time import sleep\n",
    "import os\n",
    "\n",
    "\n",
    "\n",
    "chrome_option=webdriver.ChromeOptions()\n",
    "#chrome_option.add_argument('--headless')\n",
    "driver=webdriver.Chrome(executable_path='/Users/yushi/Downloads/chromedriver_3',chrome_options=chrome_option)\n",
    "path=os.getcwd()\n",
    "X=800\n",
    "Y=800\n",
    "driver.set_window_size(X,Y)\n",
    "path=os.getcwd()\n",
    "#print(os.path.join(path,'slices1.html'))\n",
    "for f in os.listdir('.'):\n",
    "    \n",
    "    if re.match('Aug.*4[0-4].*.html',f):\n",
    "        driver.get(\"file://\"+os.path.join(path,f))\n",
    "        sleep(5)\n",
    "        print(\"file://\"+os.path.join(path,f))\n",
    "        \n",
    "        \n",
    "        action = ActionBuilder(driver)\n",
    "        action.pointer_action.move_to_location(300, 300)\n",
    "        action.perform()\n",
    "        ActionChains(driver).click_and_hold().move_by_offset(-40,0).perform()\n",
    "        driver.get_screenshot_as_file(os.path.splitext(f)[0]+'front.png')\n",
    "        ActionChains(driver).click_and_hold().move_by_offset(300,0).perform()\n",
    "        driver.get_screenshot_as_file(os.path.splitext(f)[0]+'back.png')\n",
    "        ActionChains(driver).click_and_hold().move_by_offset(-300,0).perform()\n",
    "        ActionChains(driver).click_and_hold().move_by_offset(0,295).perform()\n",
    "        driver.get_screenshot_as_file(os.path.splitext(f)[0]+'up.png')\n",
    "        ActionChains(driver).click_and_hold().move_by_offset(0,-295).perform()\n",
    "        ActionChains(driver).click_and_hold().move_by_offset(0,-290).perform()\n",
    "        driver.get_screenshot_as_file(os.path.splitext(f)[0]+'bottom.png')\n",
    "        #driver.quit()\n",
    "        print(\"end...\")\n",
    "        \n",
    "    \n",
    "    "
   ]
  },
  {
   "cell_type": "code",
   "execution_count": 15,
   "metadata": {},
   "outputs": [
    {
     "name": "stderr",
     "output_type": "stream",
     "text": [
      "/var/folders/_s/nv_19n4s5rs_f8_vl4m97kj80000gn/T/ipykernel_81721/4200339984.py:10: DeprecationWarning: use options instead of chrome_options\n",
      "  driver=webdriver.Chrome(executable_path='/Users/yushi/Downloads/chromedriver_3',chrome_options=chrome_option)\n"
     ]
    },
    {
     "name": "stdout",
     "output_type": "stream",
     "text": [
      "file:///Users/yushi/Desktop/Course Related/Bio/Visulization/Aug6fig5_sub37.html\n",
      "end...\n",
      "file:///Users/yushi/Desktop/Course Related/Bio/Visulization/Aug6fig5_sub36.html\n",
      "end...\n",
      "file:///Users/yushi/Desktop/Course Related/Bio/Visulization/Aug6fig5_sub39.html\n",
      "end...\n",
      "file:///Users/yushi/Desktop/Course Related/Bio/Visulization/Aug6fig5_sub35.html\n",
      "end...\n",
      "file:///Users/yushi/Desktop/Course Related/Bio/Visulization/Aug6fig5_sub38.html\n",
      "end...\n"
     ]
    }
   ],
   "source": [
    "from selenium import webdriver\n",
    "from selenium.webdriver.common.action_chains import ActionChains,ActionBuilder\n",
    "from time import sleep\n",
    "import os\n",
    "\n",
    "\n",
    "\n",
    "chrome_option=webdriver.ChromeOptions()\n",
    "#chrome_option.add_argument('--headless')\n",
    "driver=webdriver.Chrome(executable_path='/Users/yushi/Downloads/chromedriver_3',chrome_options=chrome_option)\n",
    "path=os.getcwd()\n",
    "X=800\n",
    "Y=800\n",
    "driver.set_window_size(X,Y)\n",
    "path=os.getcwd()\n",
    "#print(os.path.join(path,'slices1.html'))\n",
    "for f in os.listdir('.'):\n",
    "    \n",
    "    if re.match('Aug.*3[5-9].*.html',f):\n",
    "        driver.get(\"file://\"+os.path.join(path,f))\n",
    "        sleep(5)\n",
    "        print(\"file://\"+os.path.join(path,f))\n",
    "        \n",
    "        driver.get_screenshot_as_file(os.path.splitext(f)[0]+'front.png')\n",
    "        action = ActionBuilder(driver)\n",
    "        action.pointer_action.move_to_location(300, 300)\n",
    "        action.perform()\n",
    "        ActionChains(driver).click_and_hold().move_by_offset(300,0).perform()\n",
    "        driver.get_screenshot_as_file(os.path.splitext(f)[0]+'back.png')\n",
    "        ActionChains(driver).click_and_hold().move_by_offset(-300,0).perform()\n",
    "        ActionChains(driver).click_and_hold().move_by_offset(0,290).perform()\n",
    "        driver.get_screenshot_as_file(os.path.splitext(f)[0]+'up.png')\n",
    "        ActionChains(driver).click_and_hold().move_by_offset(0,-290).perform()\n",
    "        ActionChains(driver).click_and_hold().move_by_offset(0,-290).perform()\n",
    "        driver.get_screenshot_as_file(os.path.splitext(f)[0]+'bottom.png')\n",
    "        #driver.quit()\n",
    "        print(\"end...\")\n",
    "    "
   ]
  },
  {
   "cell_type": "code",
   "execution_count": 13,
   "metadata": {},
   "outputs": [
    {
     "name": "stderr",
     "output_type": "stream",
     "text": [
      "/var/folders/_s/nv_19n4s5rs_f8_vl4m97kj80000gn/T/ipykernel_67256/4176641287.py:8: DeprecationWarning: use options instead of chrome_options\n",
      "  driver=webdriver.Chrome(executable_path='/Users/yushi/Downloads/chromedriver_3',chrome_options=chrome_option)\n"
     ]
    },
    {
     "name": "stdout",
     "output_type": "stream",
     "text": [
      "/Users/yushi/Desktop/Course Related/Bio/Visulization/slices1.html\n",
      "end...\n"
     ]
    }
   ],
   "source": [
    "from selenium import webdriver\n",
    "from selenium.webdriver.common.action_chains import ActionChains\n",
    "from time import sleep\n",
    "import os\n",
    "\n",
    "chrome_option=webdriver.ChromeOptions()\n",
    "#chrome_option.add_argument('--headless')\n",
    "driver=webdriver.Chrome(executable_path='/Users/yushi/Downloads/chromedriver_3',chrome_options=chrome_option)\n",
    "path=os.getcwd()\n",
    "X=800\n",
    "Y=800\n",
    "driver.set_window_size(X,Y)\n",
    "print(os.path.join(path,'slices1.html'))\n",
    "driver.get(\"file://\"+os.path.join(path,'slices1.html'))\n",
    "sleep(3)\n",
    "ActionChains(driver).move_by_offset(X//2,Y//2).click_and_hold().move_by_offset(150,0).perform()\n",
    "sleep(3)\n",
    "driver.get_screenshot_as_file(\"screenshot.png\")\n",
    "driver.quit()\n",
    "print(\"end...\")"
   ]
  }
 ],
 "metadata": {
  "kernelspec": {
   "display_name": "Python 3.9.12 64-bit ('ysvenv')",
   "language": "python",
   "name": "python3"
  },
  "language_info": {
   "codemirror_mode": {
    "name": "ipython",
    "version": 3
   },
   "file_extension": ".py",
   "mimetype": "text/x-python",
   "name": "python",
   "nbconvert_exporter": "python",
   "pygments_lexer": "ipython3",
   "version": "3.9.12"
  },
  "orig_nbformat": 4,
  "vscode": {
   "interpreter": {
    "hash": "02939550fce8d93c39f504d6886b9dbc37bda4a359a691fc1b36a8a386e9205c"
   }
  }
 },
 "nbformat": 4,
 "nbformat_minor": 2
}
